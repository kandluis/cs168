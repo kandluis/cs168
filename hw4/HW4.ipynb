{
 "cells": [
  {
   "cell_type": "markdown",
   "metadata": {},
   "source": [
    "# CS 168 Spring Assignment 4\n",
    "\n",
    "SUNet ID(s): 05794739\n",
    "\n",
    "Name(s): Luis A. Perez\n",
    "\n",
    "Collaborators: None\n",
    "\n",
    "By turning in this assignment, I agree by the Stanford honor code and declare\n",
    "that all of this is my own work.\n"
   ]
  },
  {
   "cell_type": "markdown",
   "metadata": {},
   "source": [
    "# Imports"
   ]
  },
  {
   "cell_type": "code",
   "execution_count": 180,
   "metadata": {},
   "outputs": [],
   "source": [
    "import collections\n",
    "import matplotlib.pyplot as plt\n",
    "import scipy\n",
    "\n",
    "import numpy as np\n",
    "from scipy import linalg\n",
    "from sklearn import decomposition\n",
    "import pandas as pd\n",
    "import seaborn as sns\n",
    "import os\n",
    "import warnings\n",
    "\n",
    "from typing import Dict, List, Text, Tuple\n",
    "\n",
    "# Make figure larger\n",
    "plt.rcParams['figure.figsize'] = [10, 5]\n",
    "\n",
    "# Set numpy seed for consistent results.\n",
    "np.random.seed(1)"
   ]
  },
  {
   "cell_type": "markdown",
   "metadata": {},
   "source": [
    "# Part 1"
   ]
  },
  {
   "cell_type": "markdown",
   "metadata": {},
   "source": [
    "## Part 1a"
   ]
  },
  {
   "cell_type": "code",
   "execution_count": 34,
   "metadata": {},
   "outputs": [],
   "source": [
    "def pca_recover(X, Y):\n",
    "    \"\"\"Returns the slope of the first component of PCA applied to [X, Y].\n",
    "    \n",
    "    Args:\n",
    "        X: An (n,1) matrix of points.\n",
    "        Y: An (n,1) matrix of points.\n",
    "    \"\"\"\n",
    "    data = np.concatenate((X,Y), axis=1)\n",
    "    data = data - np.mean(data, axis=0)\n",
    "    A = np.dot(data.T, data)\n",
    "    # Compute largest eigenvector.\n",
    "    _, v = linalg.eigh(A, eigvals=(1,1))\n",
    "    v = v.flatten()\n",
    "    return v[1] / v[0]"
   ]
  },
  {
   "cell_type": "code",
   "execution_count": 38,
   "metadata": {},
   "outputs": [],
   "source": [
    "def ls_recover(X, Y):\n",
    "    \"\"\"Returns the slop of the best fit line as per least squares. See pca_recover().\"\"\"\n",
    "    centeredX, centeredY = X - np.mean(X, axis=0), Y - np.mean(Y, axis=0)\n",
    "    return (np.dot(centeredX.T, centeredY) / np.sum(centeredX**2)).flatten()[0]"
   ]
  },
  {
   "cell_type": "code",
   "execution_count": 39,
   "metadata": {},
   "outputs": [],
   "source": [
    "def problem1a():\n",
    "    X = np.arange(0.001, 1.001, 0.001)\n",
    "    X = np.reshape(X, (X.shape[0], 1))\n",
    "    Y = 2*X\n",
    "    return pca_recover(X,Y), ls_recover(X, Y)"
   ]
  },
  {
   "cell_type": "code",
   "execution_count": 40,
   "metadata": {},
   "outputs": [
    {
     "data": {
      "text/plain": [
       "(2.0, 2.0)"
      ]
     },
     "execution_count": 40,
     "metadata": {},
     "output_type": "execute_result"
    }
   ],
   "source": [
    "problem1a()"
   ]
  },
  {
   "cell_type": "code",
   "execution_count": 105,
   "metadata": {},
   "outputs": [],
   "source": [
    "def problem1b():\n",
    "    pca, ls = [], []\n",
    "    for _ in range(100000):\n",
    "        X = np.random.uniform(size=(1000, 1))\n",
    "        Y = np.random.uniform(size=(1000, 1))\n",
    "        pca.append(pca_recover(X,Y))\n",
    "        ls.append(ls_recover(X, Y))\n",
    "    return np.mean(pca), np.mean(ls), np.std(pca), np.std(ls)"
   ]
  },
  {
   "cell_type": "code",
   "execution_count": 106,
   "metadata": {},
   "outputs": [
    {
     "data": {
      "text/plain": [
       "(-0.2550136867924121,\n",
       " 3.252073550279325e-05,\n",
       " 142.44712135685342,\n",
       " 0.03173951330042009)"
      ]
     },
     "execution_count": 106,
     "metadata": {},
     "output_type": "execute_result"
    }
   ],
   "source": [
    "problem1b()"
   ]
  },
  {
   "cell_type": "code",
   "execution_count": 277,
   "metadata": {},
   "outputs": [],
   "source": [
    "def problem1cd(title, add_x_noise):\n",
    "    X = np.arange(0.001, 1.001, 0.001)\n",
    "    X = np.reshape(X, (X.shape[0], 1))\n",
    "    cs = np.arange(0, .55, 0.05)\n",
    "    ls = []\n",
    "    pca = []\n",
    "    for _ in range(30):\n",
    "        for c in cs:\n",
    "            if add_x_noise:\n",
    "                noisyX = X + np.random.normal(scale=np.sqrt(c), size=X.shape)\n",
    "            else:\n",
    "                noisyX = X\n",
    "            Y = 2*X + np.random.normal(scale=np.sqrt(c), size=X.shape)\n",
    "            pca.append((c, pca_recover(noisyX, Y)))\n",
    "            ls.append((c, ls_recover(noisyX, Y)))\n",
    "    \n",
    "    x, y = zip(*ls)\n",
    "    plt.scatter(x, y, label=\"Least Squares\", color=\"b\")\n",
    "    x, y = zip(*pca)\n",
    "    plt.scatter(x, y, label=\"PCA\", color=\"r\")\n",
    "    plt.title(\"Best Fit Line for Noisy Measurements\")\n",
    "    plt.xlabel(\"Variance (c) of noise\")\n",
    "    plt.ylabel(\"Least Squares/PCA Slope of Best Fit Line\")\n",
    "    plt.legend()\n",
    "    plt.savefig(f\"figures/{title}.png\", format=\"png\")\n",
    "    plt.close()"
   ]
  },
  {
   "cell_type": "code",
   "execution_count": 278,
   "metadata": {},
   "outputs": [],
   "source": [
    "problem1cd(\"problem1c\", add_x_noise=False)"
   ]
  },
  {
   "cell_type": "code",
   "execution_count": 279,
   "metadata": {},
   "outputs": [],
   "source": [
    "problem1cd(\"problem1d\", add_x_noise=True)"
   ]
  },
  {
   "cell_type": "markdown",
   "metadata": {},
   "source": [
    "# Problem 2"
   ]
  },
  {
   "cell_type": "code",
   "execution_count": 352,
   "metadata": {},
   "outputs": [],
   "source": [
    "class Globals:\n",
    "    DATA_FOLDER = \"data\"\n",
    "    \n",
    "def get_genomic_matrix_data(use_mode=True):\n",
    "    \"\"\"Returns the binary X matrix as defined in the problem statement.\"\"\"\n",
    "    datapath = os.path.join(Globals.DATA_FOLDER, \"p4dataset2020.txt\")\n",
    "    with open(datapath) as f:\n",
    "        lines = f.readlines()\n",
    "    assert len(lines) == 995    \n",
    "    cleaned = [[x.strip() for x in line.split(\" \")]\n",
    "               for line in lines]\n",
    "    pop = np.array([line[2] for line in cleaned])\n",
    "    gender = np.array([int(line[1]) for line in cleaned])\n",
    "    ids = np.array([line[0] for line in cleaned])\n",
    "    \n",
    "    if use_mode:\n",
    "        mapping = {'A': 0, 'C': 1, 'T': 2, 'G': 4}\n",
    "        data = np.array([[mapping[x] for x in line[3:]] \n",
    "                         for line in cleaned])\n",
    "        # Find mode.\n",
    "        mode = scipy.stats.mode(data, axis=0).mode\n",
    "        X = (data != mode).astype(int) \n",
    "    else:\n",
    "        mapping = {'A': [0, 0, 0, 1], 'C': [0, 0, 1, 0], 'T': [0, 1, 0, 0], 'G': [1, 0, 0, 0]}\n",
    "        data = np.array([[mapping[x] for x in line[3:]] \n",
    "                         for line in cleaned])\n",
    "        X = data.reshape((data.shape[0], -1))\n",
    "    return X, pop, gender, ids"
   ]
  },
  {
   "cell_type": "code",
   "execution_count": 325,
   "metadata": {},
   "outputs": [],
   "source": [
    "def problem2b(use_mode):\n",
    "    X, pop, _, _ = get_genomic_matrix_data(use_mode)\n",
    "    X = X - np.mean(X, axis=0)\n",
    "    pca_model = decomposition.PCA(n_components=2)\n",
    "    pca_model = pca_model.fit(X)\n",
    "    v1, v2 = pca_model.components_\n",
    "    v1, v2 = v1 / np.linalg.norm(v1), v2 / np.linalg.norm(v2)\n",
    "    xs, ys = np.dot(X, v1).flatten(), np.dot(X, v2).flatten()\n",
    "    # xs, ys = projections[:,0], projections[:,1]\n",
    "    label_map = {\n",
    "        'ACB': 'African Caribbeans in Barbados',\n",
    "        'ASW': 'Americans of African Ancestry in SW USA',\n",
    "        'ESN': 'Esan in Nigeria',\n",
    "        'GWD': 'Gambian in Western Divisions in the Gambia',\n",
    "        'LWK': 'Luhya in Webuye, Kenya',\n",
    "        'MSL': 'Mende in Sierra Leone',\n",
    "        'YRI': 'Yoruba in Ibadan, Nigeria',\n",
    "    }\n",
    "    for label in np.unique(pop):\n",
    "        idx = (pop == label).nonzero()\n",
    "        plt.scatter(xs[idx], ys[idx], label=label_map[label])\n",
    "    plt.legend()\n",
    "    plt.title(\"Genomic sequence data project into 2 principal components\")\n",
    "    plt.xlabel(\"v1\")\n",
    "    plt.ylabel(\"v2\")\n",
    "    plt.savefig(f\"figures/genomic_2d_projection_use_mode={use_mode}.png\", format=\"png\")\n",
    "    plt.close()"
   ]
  },
  {
   "cell_type": "code",
   "execution_count": 394,
   "metadata": {},
   "outputs": [],
   "source": [
    "problem2b(use_mode=True)"
   ]
  },
  {
   "cell_type": "code",
   "execution_count": 326,
   "metadata": {},
   "outputs": [],
   "source": [
    "def problem2d():\n",
    "    X, pop, gender, _ = get_genomic_matrix_data()\n",
    "    X = X - np.mean(X, axis=0)\n",
    "    pca_model = decomposition.PCA(n_components=3)\n",
    "    pca_model = pca_model.fit(X)\n",
    "    v1, _, v3 = pca_model.components_\n",
    "    v1, v3 = v1 / np.linalg.norm(v1), v3 / np.linalg.norm(v3)\n",
    "    xs, ys = np.dot(X, v1).flatten(), np.dot(X, v3).flatten()\n",
    "    # xs, ys = projections[:,0], projections[:,1]\n",
    "    label_map = {\n",
    "        1: 'Male',\n",
    "        2: 'Female'\n",
    "    }\n",
    "    for label in np.unique(gender):\n",
    "        idx = (gender == label).nonzero()\n",
    "        plt.scatter(xs[idx], ys[idx], label=label_map[label])\n",
    "    plt.legend()\n",
    "    plt.title(\"Genomic sequence data project into 1st and 3d principal components\")\n",
    "    plt.xlabel(\"v1\")\n",
    "    plt.ylabel(\"v3\")\n",
    "    plt.savefig(\"figures/genomic_2d_projection_2.png\", format=\"png\")\n",
    "    plt.close()"
   ]
  },
  {
   "cell_type": "code",
   "execution_count": 252,
   "metadata": {},
   "outputs": [],
   "source": [
    "problem2d()"
   ]
  },
  {
   "cell_type": "code",
   "execution_count": 327,
   "metadata": {},
   "outputs": [],
   "source": [
    "def problem2f():\n",
    "    X, pop, gender, _ = get_genomic_matrix_data()\n",
    "    X = X - np.mean(X, axis=0)\n",
    "    pca_model = decomposition.PCA(n_components=3)\n",
    "    pca_model = pca_model.fit(X)\n",
    "    _, _, v3 = pca_model.components_\n",
    "    v3 = v3.flatten() / np.linalg.norm(v3)\n",
    "    \n",
    "    plt.title(\"Magnitude of 3rd Principal Component\")\n",
    "    plt.xlabel('Nucleobase Index')\n",
    "    plt.ylabel('Absolute Value')\n",
    "    plt.plot(range(len(v3)), np.abs(v3))\n",
    "    plt.savefig(\"figures/x_y_chromosomes.png\", format=\"png\")\n",
    "    plt.close()"
   ]
  },
  {
   "cell_type": "code",
   "execution_count": 270,
   "metadata": {},
   "outputs": [],
   "source": [
    "problem2f()"
   ]
  },
  {
   "cell_type": "code",
   "execution_count": 314,
   "metadata": {},
   "outputs": [],
   "source": [
    "def problem2h():\n",
    "    problem2b(use_mode=False)"
   ]
  },
  {
   "cell_type": "code",
   "execution_count": 315,
   "metadata": {},
   "outputs": [],
   "source": [
    "problem2h()"
   ]
  },
  {
   "cell_type": "code",
   "execution_count": 395,
   "metadata": {},
   "outputs": [],
   "source": [
    "def read_metadata():\n",
    "    \"\"\"Returns a dictionary of metadata, M.\n",
    "    \n",
    "    M[property][I_ID] returns the corresponding property of I_ID.\n",
    "    \"\"\"\n",
    "    metadata = pd.read_csv(os.path.join(Globals.DATA_FOLDER, \"20130606_g1k.ped\"),\n",
    "                           header=0, sep='\\t').set_index('Individual ID')\n",
    "    metadata = metadata.to_dict()\n",
    "    return metadata\n",
    "\n",
    "def problem2i(color_label):\n",
    "    meta = read_metadata()\n",
    "    X, _, _, ids = get_genomic_matrix_data(use_mode=False)\n",
    "    X = X - np.mean(X, axis=0)\n",
    "    pca_model = decomposition.PCA(n_components=4)\n",
    "    pca_model = pca_model.fit(X)\n",
    "    _, _, v3, v4 = pca_model.components_\n",
    "    xs, ys = np.dot(X, v3).flatten(), np.dot(X, v4).flatten()\n",
    "    # xs, ys = projections[:,0], projections[:,1]\n",
    "    \n",
    "    labels = meta[color_label]\n",
    "    data_labels = np.array([labels[_id] for _id in ids])\n",
    "    for label in np.unique(data_labels):\n",
    "        idx = (data_labels == label).nonzero()\n",
    "        plt.scatter(xs[idx], ys[idx], label=label)\n",
    "    plt.legend()\n",
    "    plt.title(\"Genomic sequence data project into 1st and 3d principal components\")\n",
    "    plt.xlabel(\"v1\")\n",
    "    plt.ylabel(\"v4\")\n",
    "    plt.savefig(\"figures/genomic_2i_projection_4th.png\", format=\"png\")\n",
    "    plt.close()"
   ]
  },
  {
   "cell_type": "code",
   "execution_count": 396,
   "metadata": {},
   "outputs": [],
   "source": [
    "problem2i(color_label='Relationship')"
   ]
  }
 ],
 "metadata": {
  "kernelspec": {
   "display_name": "cs168",
   "language": "python",
   "name": "cs168"
  },
  "language_info": {
   "codemirror_mode": {
    "name": "ipython",
    "version": 3
   },
   "file_extension": ".py",
   "mimetype": "text/x-python",
   "name": "python",
   "nbconvert_exporter": "python",
   "pygments_lexer": "ipython3",
   "version": "3.7.4"
  }
 },
 "nbformat": 4,
 "nbformat_minor": 4
}
