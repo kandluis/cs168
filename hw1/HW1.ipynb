{
 "cells": [
  {
   "cell_type": "markdown",
   "metadata": {},
   "source": [
    "# CS 168 Spring Assignment [TODO]\n",
    "\n",
    "SUNet ID(s): 05794739\n",
    "\n",
    "Name(s): Luis A. Perez\n",
    "\n",
    "Collaborators: None\n",
    "\n",
    "By turning in this assignment, I agree by the Stanford honor code and declare\n",
    "that all of this is my own work.\n"
   ]
  },
  {
   "cell_type": "markdown",
   "metadata": {},
   "source": [
    "# Imports"
   ]
  },
  {
   "cell_type": "code",
   "execution_count": 149,
   "metadata": {},
   "outputs": [],
   "source": [
    "import collections\n",
    "import matplotlib.pyplot as plt\n",
    "import hashlib\n",
    "import enum\n",
    "import numpy as np\n",
    "import pandas as pd\n",
    "import seaborn as sns\n",
    "import random\n",
    "\n",
    "from typing import Callable, List, Iterator, Text, Tuple\n",
    "\n",
    "# Make figure larger\n",
    "plt.rcParams['figure.figsize'] = [10, 5]"
   ]
  },
  {
   "cell_type": "markdown",
   "metadata": {},
   "source": [
    "## Part 1"
   ]
  },
  {
   "cell_type": "markdown",
   "metadata": {},
   "source": [
    "### Part 1a : Defining each strategy."
   ]
  },
  {
   "cell_type": "markdown",
   "metadata": {},
   "source": [
    "**Strategy 1** Select one of the $N$ bins uniformly at random, and place the current ball in it."
   ]
  },
  {
   "cell_type": "code",
   "execution_count": 63,
   "metadata": {},
   "outputs": [],
   "source": [
    "def strategy1(N: int) -> int:\n",
    "    \"\"\"Select one of N bins uniformly and place one of the N balls in it.\n",
    "    \n",
    "    Args:\n",
    "        N: The number of bins and number of balls.\n",
    "        \n",
    "    Returns:\n",
    "        The number of balls in the most populated bin.\n",
    "    \"\"\"\n",
    "    binIdxSamples = np.random.randint(low=0, high=N, size=N)\n",
    "    bins = collections.Counter(binIdxSamples)\n",
    "    return max(bins.items(), key=lambda x: x[1])[1]"
   ]
  },
  {
   "cell_type": "markdown",
   "metadata": {},
   "source": [
    "**Strategy 2**\n",
    "Select two of the $N$ bins uniformly at random (either with or without replacement), and look at how many balls are already in each.  If one bin has strictly fewer balls than the other, place the current ball in that bin.  If both bins have the same number of balls, pick one of the two at random and place the current ball in it."
   ]
  },
  {
   "cell_type": "code",
   "execution_count": 64,
   "metadata": {},
   "outputs": [],
   "source": [
    "def strategy2(N: int) -> int:\n",
    "    \"\"\"Select two bins at random and place ball into bin with fewer. Break ties at random.\n",
    "    \n",
    "    Args:\n",
    "        N: The number of bins and number of balls.\n",
    "        \n",
    "    Returns:\n",
    "        The number of balls in the most populated bin.\n",
    "    \"\"\"\n",
    "    firstIdx = np.random.randint(low=0, high=N, size=N)\n",
    "    secondIdx = np.random.randint(low=0, high=N, size=N)\n",
    "    coinFlips = np.random.randint(low=0, high=2, size=N)\n",
    "    bins = collections.Counter()\n",
    "    for flip, (i,j) in enumerate(zip(firstIdx, secondIdx)):\n",
    "        if bins[i] < bins[j]:\n",
    "            bins[i] += 1\n",
    "        elif bins[j] < bins[i]:\n",
    "            bins[j] += 1\n",
    "        else:\n",
    "            bins[i if coinFlips[flip] else j] += 1\n",
    "    return max(bins.items(), key=lambda x: x[1])[1]"
   ]
  },
  {
   "cell_type": "markdown",
   "metadata": {},
   "source": [
    "**Strategy 3**: Same as Strategy 2 except with 3 bins at random."
   ]
  },
  {
   "cell_type": "code",
   "execution_count": 65,
   "metadata": {},
   "outputs": [],
   "source": [
    "def strategy3(N: int) -> int:\n",
    "    \"\"\"Select three bins at random and place ball into bin with fewer. Break ties at random.\n",
    "    \n",
    "    Args:\n",
    "        N: The number of bins and number of balls.\n",
    "        \n",
    "    Returns:\n",
    "        The number of balls in the most populated bin.\n",
    "    \"\"\"\n",
    "    firstIdx = np.random.randint(low=0, high=N, size=N)\n",
    "    secondIdx = np.random.randint(low=0, high=N, size=N)\n",
    "    thirdIdx = np.random.randint(low=0, high=N, size=N)\n",
    "    doubleTieFlip = np.random.randint(low=0, high=2, size=N)\n",
    "    tripleTieFlip = np.random.randint(low=0, high=3, size=N)\n",
    "    bins = collections.Counter()\n",
    "    for flip, (i,j,k) in enumerate(zip(firstIdx, secondIdx, thirdIdx)):\n",
    "        sortedOutcomes = sorted([(bins[i],i), (bins[j], j), (bins[k], k)])\n",
    "        # Triple tie.\n",
    "        if bins[i] == bins[j] and bins[j] == bins[k]:\n",
    "            flipOutcome = tripleTieFlip[flip]\n",
    "            if flipOutcome == 0:\n",
    "                bins[i] += 1\n",
    "            elif flipOutcome == 1:\n",
    "                bins[j] += 1\n",
    "            elif flipOutcome == 2:\n",
    "                bins[j] += 1\n",
    "            else:\n",
    "                assert False, \"%s is not a valid triple flip outcome\" % flipOutcome\n",
    "        # Min double tie.\n",
    "        elif sortedOutcomes[0][0] == sortedOutcomes[1][0]:\n",
    "            outcome = sortedOutcomes[0 if doubleTieFlip[flip] else 1]\n",
    "            bins[outcome[1]] += 1\n",
    "        # No tie.\n",
    "        else:\n",
    "            outcome = sortedOutcomes[0]\n",
    "            bins[outcome[1]] += 1\n",
    "    return max(bins.items(), key=lambda x: x[1])[1]"
   ]
  },
  {
   "cell_type": "markdown",
   "metadata": {},
   "source": [
    "**Strategy 4**: Select two bins as follows:  the first bin is selected uniformly from the first $\\frac{N}{2}$ bins, and the second uniformly from the last $\\frac{N}{2}$ bins.  (You can assume that $N$ is even.)  If one bin has strictly fewer balls than the other, place the current ball in that bin.  If both bins have the same number of balls, place the current ball (deterministically) in the first of the two bins."
   ]
  },
  {
   "cell_type": "code",
   "execution_count": 66,
   "metadata": {},
   "outputs": [],
   "source": [
    "def strategy4(N: int) -> int:\n",
    "    \"\"\"Select bin from first half and second half. Place ball into bin with fewer balls, favoring first half.\n",
    "    \n",
    "    Args:\n",
    "        N: The number of bins and number of balls.\n",
    "        \n",
    "    Returns:\n",
    "        The number of balls in the most populated bin.\n",
    "    \"\"\"\n",
    "    assert N % 2 == 0, \"We assume for Strategy 4 that N is even!\"\n",
    "    firstIdx = np.random.randint(low=0, high=N // 2, size=N)\n",
    "    secondIdx = np.random.randint(low=N // 2 + 1, high=N, size=N)\n",
    "    bins = collections.Counter()\n",
    "    for (first, second) in zip(firstIdx, secondIdx):\n",
    "        if bins[first] <= bins[second]:\n",
    "            bins[first] += 1\n",
    "        else:\n",
    "            bins[second] += 1\n",
    "    return max(bins.items(), key=lambda x: x[1])[1]"
   ]
  },
  {
   "cell_type": "markdown",
   "metadata": {},
   "source": [
    "### Part 1b: Simulation"
   ]
  },
  {
   "cell_type": "code",
   "execution_count": 116,
   "metadata": {},
   "outputs": [],
   "source": [
    "def simulate(strategy_fn: Callable[[int], int], nTrials: int, title: Text) -> None:\n",
    "    \"\"\"Simulates the given stragy nTrials and plots the histogram.\n",
    "    \n",
    "    Args:\n",
    "        strategy_fn: The callable defining the strategy.\n",
    "        nTrials: The number of trials to run.\n",
    "        title: The plot title for the generated histogram.\n",
    "    \"\"\"\n",
    "    N = 200000\n",
    "    simulation_results = [strategy_fn(N) for _ in range(nTrials)]\n",
    "    counts = collections.Counter(simulation_results)\n",
    "    data = pd.DataFrame(zip(counts.keys(), counts.values()),\n",
    "                        columns=['value', 'count'])\n",
    "    sns.barplot(data=data, x='value', y='count')\n",
    "    plt.xlabel('X')\n",
    "    plt.ylabel('Count')\n",
    "    plt.title(\"Histogram of %s\" % title)\n",
    "    plt.savefig('figures/%s.png' % title, dpi=1200)\n",
    "    plt.show()"
   ]
  },
  {
   "cell_type": "code",
   "execution_count": 121,
   "metadata": {},
   "outputs": [
    {
     "data": {
      "image/png": "[encoded data removed]",
      "text/plain": [
       "<Figure size 720x360 with 1 Axes>"
      ]
     },
     "metadata": {
      "needs_background": "light"
     },
     "output_type": "display_data"
    }
   ],
   "source": [
    "simulate(strategy1, nTrials=30, title=\"Strategy1\")"
   ]
  },
  {
   "cell_type": "code",
   "execution_count": 122,
   "metadata": {},
   "outputs": [
    {
     "data": {
      "image/png": "[encoded data removed]",
      "text/plain": [
       "<Figure size 720x360 with 1 Axes>"
      ]
     },
     "metadata": {
      "needs_background": "light"
     },
     "output_type": "display_data"
    }
   ],
   "source": [
    "simulate(strategy2, nTrials=30, title=\"Strategy2\")"
   ]
  },
  {
   "cell_type": "code",
   "execution_count": 123,
   "metadata": {},
   "outputs": [
    {
     "data": {
      "image/png": "[encoded data removed]",
      "text/plain": [
       "<Figure size 720x360 with 1 Axes>"
      ]
     },
     "metadata": {
      "needs_background": "light"
     },
     "output_type": "display_data"
    }
   ],
   "source": [
    "simulate(strategy3, nTrials=30, title=\"Strategy3\")"
   ]
  },
  {
   "cell_type": "code",
   "execution_count": 126,
   "metadata": {},
   "outputs": [
    {
     "data": {
      "image/png": "[encoded data removed]",
      "text/plain": [
       "<Figure size 720x360 with 1 Axes>"
      ]
     },
     "metadata": {
      "needs_background": "light"
     },
     "output_type": "display_data"
    }
   ],
   "source": [
    "simulate(strategy4, nTrials=30, title=\"Strategy4\")"
   ]
  },
  {
   "cell_type": "markdown",
   "metadata": {},
   "source": [
    "## Part 2"
   ]
  },
  {
   "cell_type": "code",
   "execution_count": 198,
   "metadata": {},
   "outputs": [],
   "source": [
    "class CountMinSketch:\n",
    "    \"\"\"Implementation of the CountMinSketch datastructure.\"\"\"\n",
    "    def __init__(self, trial: int, b=256, l=4, isConservative: bool=False) -> None:\n",
    "        self._id = trial\n",
    "        # Number of buckets.\n",
    "        self.b = b\n",
    "        # Number of hash functions\n",
    "        self.l = l\n",
    "        self.isConservative = isConservative\n",
    "        self._table = [[0] * self.b for _ in range(self.l)]\n",
    "        \n",
    "    def _hash(self, x: int) -> List[int]:\n",
    "        \"\"\"Hashes x to the correspondg self.l hash functions.\"\"\"\n",
    "        inputString = (str(x) + str(self._id - 1)).encode('utf-8')\n",
    "        inputHash = hashlib.md5(inputString).hexdigest()\n",
    "        return [int(inputHash[2*i:2*(i+1)], 16) % self.b\n",
    "                for i in range(self.l)]\n",
    "        \n",
    "    def Increment(self, x: int) -> None:\n",
    "        \"\"\"Increments the count of x.\"\"\"\n",
    "        hashes = self._hash(x)\n",
    "        if self.isConservative:\n",
    "            currentCounts = [self._table[i][h]\n",
    "                             for i, h in enumerate(hashes)]\n",
    "            minCount = min(currentCounts)\n",
    "        else:\n",
    "            minCount = None\n",
    "        for i, h in enumerate(hashes):\n",
    "            if minCount is None or self._table[i][h] == minCount:\n",
    "                self._table[i][h] += 1      \n",
    "        \n",
    "    def Count(self, x: int) -> int:\n",
    "        return min([self._table[i][h]\n",
    "                    for i, h in enumerate(self._hash(x))])"
   ]
  },
  {
   "cell_type": "code",
   "execution_count": 199,
   "metadata": {},
   "outputs": [],
   "source": [
    "@enum.unique\n",
    "class StreamType(enum.Enum):\n",
    "    FORWARD = 1\n",
    "    REVERSE = 2\n",
    "    RANDOM = 3"
   ]
  },
  {
   "cell_type": "code",
   "execution_count": 200,
   "metadata": {},
   "outputs": [],
   "source": [
    "def generate_stream(sType: StreamType) -> Iterator[int]:\n",
    "    \"\"\"Iterator for the stream of the given type.\"\"\"\n",
    "    if sType == StreamType.FORWARD:\n",
    "        i = 0\n",
    "        while i < 9:\n",
    "            for el in range(i*1000 + 1, (i+1)*1000 + 1):\n",
    "                for _ in range(i + 1):\n",
    "                    yield el\n",
    "            i += 1\n",
    "        for el in range(9001, 9051):\n",
    "            for _ in range((el - 9000)**2):\n",
    "                yield el\n",
    "    elif sType == StreamType.REVERSE:\n",
    "        # Just materialize and reverse it...\n",
    "        for el in reversed(list(generate_stream(StreamType.FORWARD))):\n",
    "            yield el\n",
    "    elif sType == StreamType.RANDOM:\n",
    "        materialized = list(generate_stream(StreamType.FORWARD))\n",
    "        random.shuffle(materialized)\n",
    "        for el in materialized:\n",
    "            yield el\n",
    "    else:\n",
    "        assert False"
   ]
  },
  {
   "cell_type": "code",
   "execution_count": 201,
   "metadata": {},
   "outputs": [],
   "source": [
    "def simulate_stream(sketch: CountMinSketch, sType: StreamType) -> Tuple[int, int]:\n",
    "    \"\"\"Simulates the specified stream.\n",
    "    \n",
    "    Returns:\n",
    "        Estimate of frequency of element 9050.\n",
    "        Estimate for the number of heavy hitters.\n",
    "    \"\"\"\n",
    "    def is_heavy_hitter(el: int) -> bool:\n",
    "        return sketch.Count(el) >= 841\n",
    "    \n",
    "    for element in generate_stream(sType):\n",
    "        sketch.Increment(element)\n",
    "        \n",
    "    estimateOf9050 = sketch.Count(9050)\n",
    "    heavyHitters = [el for el in range(1, 9051)\n",
    "                     if is_heavy_hitter(el)]\n",
    "    return estimateOf9050, len(heavyHitters)"
   ]
  },
  {
   "cell_type": "code",
   "execution_count": 202,
   "metadata": {},
   "outputs": [],
   "source": [
    "def simulate_trials_for_stream(\n",
    "    sType: StreamType, isConservative: bool, trials: int=10) -> Tuple[float, float]:\n",
    "    \"\"\"Simulates multiple trials for the stream type.\n",
    "    \n",
    "    Returns:\n",
    "        Average estimate of frequency of element 9050.\n",
    "        Average estimate for the number of heavy hitters.\n",
    "    \"\"\"\n",
    "    results = [simulate_stream(\n",
    "        CountMinSketch(trial, isConservative=isConservative), sType) \n",
    "     for trial in range(1, trials +1)]\n",
    "    estimatesOf9050, numHeavies = zip(*results)\n",
    "    return np.mean(estimatesOf9050), np.mean(numHeavies)"
   ]
  },
  {
   "cell_type": "code",
   "execution_count": 207,
   "metadata": {},
   "outputs": [],
   "source": [
    "def problem2c():\n",
    "    for sType in StreamType:\n",
    "        meanFreq9050, meanNumHeavies = simulate_trials_for_stream(\n",
    "            sType, isConservative=False)\n",
    "        print(\"For %s Stream, the mean estimate for the frequency \"\n",
    "             \"of 9050 is %s, while the mean estimate of the number of \"\n",
    "             \"heavy hitters is %s.\" % (sType.name, meanFreq9050, meanNumHeavies))"
   ]
  },
  {
   "cell_type": "code",
   "execution_count": 208,
   "metadata": {},
   "outputs": [],
   "source": [
    "def problem2f():\n",
    "    for sType in StreamType:\n",
    "        meanFreq9050, meanNumHeavies = simulate_trials_for_stream(\n",
    "            sType, isConservative=True)\n",
    "        print(\"[Conservative] For %s Stream, the mean estimate for the frequency \"\n",
    "             \"of 9050 is %s, while the mean estimate of the number of \"\n",
    "             \"heavy hitters is %s.\" % (sType.name, meanFreq9050, meanNumHeavies))"
   ]
  },
  {
   "cell_type": "code",
   "execution_count": 209,
   "metadata": {},
   "outputs": [
    {
     "name": "stdout",
     "output_type": "stream",
     "text": [
      "For FORWARD Stream, the mean estimate for the frequency of 9050 is 2645.7, while the mean estimate of the number of heavy hitters is 24.6.\n",
      "For REVERSE Stream, the mean estimate for the frequency of 9050 is 2645.7, while the mean estimate of the number of heavy hitters is 24.6.\n",
      "For RANDOM Stream, the mean estimate for the frequency of 9050 is 2645.7, while the mean estimate of the number of heavy hitters is 24.6.\n"
     ]
    }
   ],
   "source": [
    "problem2c()"
   ]
  },
  {
   "cell_type": "code",
   "execution_count": 210,
   "metadata": {},
   "outputs": [
    {
     "name": "stdout",
     "output_type": "stream",
     "text": [
      "[Conservative] For FORWARD Stream, the mean estimate for the frequency of 9050 is 2577.2, while the mean estimate of the number of heavy hitters is 23.4.\n",
      "[Conservative] For REVERSE Stream, the mean estimate for the frequency of 9050 is 2500.0, while the mean estimate of the number of heavy hitters is 22.2.\n",
      "[Conservative] For RANDOM Stream, the mean estimate for the frequency of 9050 is 2500.0, while the mean estimate of the number of heavy hitters is 22.2.\n"
     ]
    }
   ],
   "source": [
    "problem2f()"
   ]
  },
  {
   "cell_type": "code",
   "execution_count": null,
   "metadata": {},
   "outputs": [],
   "source": []
  }
 ],
 "metadata": {
  "kernelspec": {
   "display_name": "cs168",
   "language": "python",
   "name": "cs168"
  },
  "language_info": {
   "codemirror_mode": {
    "name": "ipython",
    "version": 3
   },
   "file_extension": ".py",
   "mimetype": "text/x-python",
   "name": "python",
   "nbconvert_exporter": "python",
   "pygments_lexer": "ipython3",
   "version": "3.7.4"
  }
 },
 "nbformat": 4,
 "nbformat_minor": 4
}
