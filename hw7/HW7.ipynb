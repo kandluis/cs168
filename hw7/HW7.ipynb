{
 "cells": [
  {
   "cell_type": "markdown",
   "metadata": {},
   "source": [
    "# CS 168 Spring Assignment 7\n",
    "\n",
    "SUNet ID(s): 05794739\n",
    "\n",
    "Name(s): Luis A. Perez\n",
    "\n",
    "Collaborators: None\n",
    "\n",
    "By turning in this assignment, I agree by the Stanford honor code and declare\n",
    "that all of this is my own work.\n"
   ]
  },
  {
   "cell_type": "markdown",
   "metadata": {},
   "source": [
    "# Imports"
   ]
  },
  {
   "cell_type": "code",
   "execution_count": 114,
   "metadata": {},
   "outputs": [],
   "source": [
    "import collections\n",
    "import matplotlib.pyplot as plt\n",
    "import scipy\n",
    "\n",
    "import numpy as np\n",
    "from PIL import Image\n",
    "from sklearn import decomposition\n",
    "import pandas as pd\n",
    "import seaborn as sns\n",
    "import os\n",
    "import warnings\n",
    "\n",
    "import IPython\n",
    "\n",
    "from typing import Dict, List, Text, Tuple\n",
    "\n",
    "# Make figure larger\n",
    "plt.rcParams['figure.figsize'] = [10, 5]\n",
    "\n",
    "# Set numpy seed for consistent results.\n",
    "np.random.seed(1)"
   ]
  },
  {
   "cell_type": "code",
   "execution_count": 2,
   "metadata": {},
   "outputs": [],
   "source": [
    "class Globals:\n",
    "    DATA_PATH = 'data/'"
   ]
  },
  {
   "cell_type": "markdown",
   "metadata": {},
   "source": [
    "# Part 1"
   ]
  },
  {
   "cell_type": "markdown",
   "metadata": {},
   "source": [
    "## Part 1b"
   ]
  },
  {
   "cell_type": "code",
   "execution_count": 105,
   "metadata": {},
   "outputs": [],
   "source": [
    "def circle_graph(n=10):\n",
    "    \"\"\"Returns transition matrix for a circle graph.\"\"\"\n",
    "    A = np.zeros((n, n))\n",
    "    for i in range(n):\n",
    "        A[i, (i + 1) % n] = 1\n",
    "        A[(i + 1) % n, i] = 1\n",
    "    return 0.5 * A, 1 / n * np.ones((1, n))\n",
    "\n",
    "def circle_graph_with_extra_edge(n=10, a=1, b=5):\n",
    "    \"\"\"Same as above but for a circle graph with an additional edge (a,b).\"\"\"\n",
    "    P, _ = circle_graph(n=n)\n",
    "    P[a-1, b-1] = 0.5\n",
    "    P[b-1, a-1] = 0.5\n",
    "    P[a-1, :] = P[a-1, :] * 2 / 3\n",
    "    P[b-1, :] = P[b-1, :] * 2 / 3\n",
    "    denom = 2*(n-2) + 3*2\n",
    "    pi = 2 * np.ones((1, n)) / denom\n",
    "    pi[0, a - 1] = 3 / denom\n",
    "    pi[0, b - 1] = 3 / denom\n",
    "    \n",
    "    return P, pi"
   ]
  },
  {
   "cell_type": "code",
   "execution_count": null,
   "metadata": {},
   "outputs": [],
   "source": [
    "def variation_distance(x, y):\n",
    "    return 1 / 2 * np.sum(np.abs(x - y))\n",
    "\n",
    "def chain_mixing(T, pi):\n",
    "    s = np.zeros((1, np.shape(T)[0]))\n",
    "    s[0, 0] = 1\n",
    "    distance = [variation_distance(s, pi)]\n",
    "    for t in range(1, 101):\n",
    "        s = np.dot(s, T)\n",
    "        distance.append(variation_distance(s, pi))\n",
    "        \n",
    "    return distance"
   ]
  },
  {
   "cell_type": "code",
   "execution_count": 110,
   "metadata": {},
   "outputs": [],
   "source": [
    "def problem1b():\n",
    "    graphs = {\n",
    "        '10-circle' : circle_graph(n=10),\n",
    "        '9-circle': circle_graph(n=9),\n",
    "        '9-circle-with-extra-edge': circle_graph_with_extra_edge(n=9)\n",
    "    }\n",
    "    for name, (T, pi) in graphs.items():\n",
    "        dists = chain_mixing(T, pi)\n",
    "        plt.plot(range(len(dists)), dists, label=name)\n",
    "    plt.legend()\n",
    "    plt.title('Distribution Mixing From Initial State on Node 1')\n",
    "    plt.ylabel('Variational Distance')\n",
    "    plt.xlabel('Mixing Time')\n",
    "    plt.savefig('figures/mixing_time.png', format='png')\n",
    "    plt.close()"
   ]
  },
  {
   "cell_type": "code",
   "execution_count": 111,
   "metadata": {},
   "outputs": [],
   "source": [
    "problem1b()"
   ]
  },
  {
   "cell_type": "markdown",
   "metadata": {},
   "source": [
    "## Part 1c"
   ]
  },
  {
   "cell_type": "code",
   "execution_count": 136,
   "metadata": {},
   "outputs": [],
   "source": [
    "def problem1c():\n",
    "    graphs = {\n",
    "        '10-circle' : circle_graph(n=10),\n",
    "        '9-circle': circle_graph(n=9),\n",
    "        '9-circle-with-extra-edge': circle_graph_with_extra_edge(n=9)\n",
    "    }\n",
    "    for name, (T, _) in graphs.items():\n",
    "        w, _ = np.linalg.eig(T.T)\n",
    "        second_max_idx = len(w) - 2\n",
    "        lambda2 = np.partition(w, second_max_idx)[second_max_idx]\n",
    "        print(f'{name}')\n",
    "        IPython.display.display(IPython.display.Math(f'\\lambda_2={lambda2}'))"
   ]
  },
  {
   "cell_type": "code",
   "execution_count": 137,
   "metadata": {},
   "outputs": [
    {
     "name": "stdout",
     "output_type": "stream",
     "text": [
      "10-circle\n"
     ]
    },
    {
     "data": {
      "text/latex": [
       "$\\displaystyle \\lambda_2=0.8090169943749482$"
      ],
      "text/plain": [
       "<IPython.core.display.Math object>"
      ]
     },
     "metadata": {},
     "output_type": "display_data"
    },
    {
     "name": "stdout",
     "output_type": "stream",
     "text": [
      "9-circle\n"
     ]
    },
    {
     "data": {
      "text/latex": [
       "$\\displaystyle \\lambda_2=0.766044443118978$"
      ],
      "text/plain": [
       "<IPython.core.display.Math object>"
      ]
     },
     "metadata": {},
     "output_type": "display_data"
    },
    {
     "name": "stdout",
     "output_type": "stream",
     "text": [
      "9-circle-with-extra-edge\n"
     ]
    },
    {
     "data": {
      "text/latex": [
       "$\\displaystyle \\lambda_2=0.7675918792439985$"
      ],
      "text/plain": [
       "<IPython.core.display.Math object>"
      ]
     },
     "metadata": {},
     "output_type": "display_data"
    }
   ],
   "source": [
    "problem1c()"
   ]
  },
  {
   "cell_type": "markdown",
   "metadata": {},
   "source": [
    "# Part 2"
   ]
  },
  {
   "cell_type": "code",
   "execution_count": 197,
   "metadata": {},
   "outputs": [],
   "source": [
    "def route_length(D, idx):\n",
    "    \"\"\"Computes total length of route visiting the specified idx in order.\"\"\"\n",
    "    return sum([D[idx[i], idx[i+1]] for i in range(len(idx) - 1)])\n",
    "\n",
    "def load_distance():\n",
    "    \"\"\"Loads a matrix containing all pair-wise distances between all parks.\"\"\"\n",
    "    data = pd.read_csv(os.path.join(Globals.DATA_PATH, 'parks.csv'))\n",
    "    X = np.stack((data['Longitude'], data['Latitude'])).T\n",
    "    n = np.shape(X)[0]\n",
    "    X2 = np.diag(np.dot(X, X.T)).reshape((n, 1))\n",
    "    Y2 = X2.reshape((1, n))\n",
    "    XY = np.dot(X, X.T)\n",
    "    D = np.sqrt(X2 + Y2 - 2*XY)\n",
    "    park_to_idx = {name: i for i, name in enumerate(data['Name'])}\n",
    "    idx_to_park = {i : name for name, i in park_to_idx.items()}\n",
    "    \n",
    "    # Sanity checks.\n",
    "    assert np.allclose(D[park_to_idx['Acadia'], park_to_idx['Arches']], 41.75, rtol=1e-4)\n",
    "    assert np.allclose(route_length(D, list(range(n)) + [0]), 491.92)\n",
    "    return D, park_to_idx, idx_to_park"
   ]
  },
  {
   "cell_type": "markdown",
   "metadata": {},
   "source": [
    "## Part 2a"
   ]
  },
  {
   "cell_type": "code",
   "execution_count": 216,
   "metadata": {},
   "outputs": [],
   "source": [
    "def mcmc(D, n_iters, T, route_fn):\n",
    "    \"\"\"Implements MCMC for Eucledian Traveling Salesmen on Distance Matrix D.\"\"\"\n",
    "    route = np.array(range(D.shape[0]))\n",
    "    np.random.shuffle(route)\n",
    "    best = route.copy()\n",
    "    \n",
    "    selected = np.random.choice(range(D.shape[0]), replace=True, size=n_iters)\n",
    "    selected2 = np.random.choice(range(D.shape[0]), replace=True, size=n_iters)\n",
    "    route_dists = []\n",
    "    for idx, idx2 in zip(selected, selected2):\n",
    "        newroute = route.copy()\n",
    "        route_fn(route, newroute, idx, idx2)\n",
    "        route_dist = route_length(D, route.tolist() + [route[0]])\n",
    "        newroute_dist = route_length(D, newroute.tolist() + [newroute[0]])\n",
    "        route_dists.append(route_dist)\n",
    "        delta_dist = newroute_dist - route_dist\n",
    "        if delta_dist < 0 or (T > 0 and np.random.uniform() < np.exp(-delta_dist / T)):\n",
    "            route = newroute\n",
    "        if route_length(D, route.tolist() + [route[0]]) < route_length(D, best.tolist() + [best[0]]):\n",
    "            best = route\n",
    "    return best, route_dists"
   ]
  },
  {
   "cell_type": "markdown",
   "metadata": {},
   "source": [
    "## Part 2b"
   ]
  },
  {
   "cell_type": "code",
   "execution_count": 225,
   "metadata": {},
   "outputs": [],
   "source": [
    "def sequential_modify(route, newroute, idx, idx2):\n",
    "    del idx2\n",
    "    next_idx = (idx + 1) % D.shape[0]\n",
    "    newroute[idx] = route[next_idx]\n",
    "    newroute[next_idx] = route[idx]\n",
    "    \n",
    "def problem2b():\n",
    "    D, park_to_idx, idx_to_park = load_distance()\n",
    "    for T in [0, 1, 10, 100]:\n",
    "        best_length = None\n",
    "        for trial in range(10):\n",
    "            _, y = mcmc(D, n_iters=10000, T=T, route_fn=sequential_modify)\n",
    "            plt.plot(range(len(y)), y, label=f'trial_idx={trial + 1}')\n",
    "            if best_length is None or min(y) < best_length:\n",
    "                best_length = min(y)\n",
    "\n",
    "        plt.legend()\n",
    "        plt.title(f'Current Route by Iteration for T={T}')\n",
    "        plt.xlabel('Iteration')\n",
    "        plt.ylabel('Route Distance')\n",
    "        plt.savefig(f'figures/route_by_iteration_t={T}.png', format='png')\n",
    "        plt.close()\n",
    "        \n",
    "        print(f'[T={T}]The best found route over all trials was: {best_length:.2f}.')"
   ]
  },
  {
   "cell_type": "code",
   "execution_count": 226,
   "metadata": {},
   "outputs": [
    {
     "name": "stdout",
     "output_type": "stream",
     "text": [
      "[T=0]The best found route over all trials was: 375.42.\n",
      "[T=1]The best found route over all trials was: 320.64.\n",
      "[T=10]The best found route over all trials was: 279.21.\n",
      "[T=100]The best found route over all trials was: 358.89.\n"
     ]
    }
   ],
   "source": [
    "problem2b()"
   ]
  },
  {
   "cell_type": "markdown",
   "metadata": {},
   "source": [
    "## Problem 2c"
   ]
  },
  {
   "cell_type": "code",
   "execution_count": 231,
   "metadata": {},
   "outputs": [],
   "source": [
    "def random_modify(route, newroute, idx, idx2):\n",
    "    newroute[idx] = route[idx2]\n",
    "    newroute[idx2] = route[idx]\n",
    "    \n",
    "def problem2c():\n",
    "    D, park_to_idx, idx_to_park = load_distance()\n",
    "    for T in [0, 1, 10, 100]:\n",
    "        best_length = None\n",
    "        for trial in range(10):\n",
    "            _, y = mcmc(D, n_iters=10000, T=T, route_fn=random_modify)\n",
    "            if best_length is None or min(y) < best_length:\n",
    "                best_length = min(y)\n",
    "            plt.plot(range(len(y)), y, label=f'trial_idx={trial + 1}')\n",
    "        plt.legend()\n",
    "        plt.title(f'Current Route by Iteration for T={T}')\n",
    "        plt.xlabel('Iteration')\n",
    "        plt.ylabel('Route Distance')\n",
    "        plt.savefig(f'figures/route_by_iteration_t={T}_random.png', format='png')\n",
    "        plt.close()\n",
    "        \n",
    "        print(f'[T={T}]The best found route over all trials was: {best_length:.2f}.')"
   ]
  },
  {
   "cell_type": "code",
   "execution_count": 232,
   "metadata": {},
   "outputs": [
    {
     "name": "stdout",
     "output_type": "stream",
     "text": [
      "[T=0]The best found route over all trials was: 200.58.\n",
      "[T=1]The best found route over all trials was: 166.23.\n",
      "[T=10]The best found route over all trials was: 252.79.\n",
      "[T=100]The best found route over all trials was: 323.23.\n"
     ]
    }
   ],
   "source": [
    "problem2c()"
   ]
  },
  {
   "cell_type": "markdown",
   "metadata": {},
   "source": [
    "# Part 3"
   ]
  },
  {
   "cell_type": "markdown",
   "metadata": {},
   "source": [
    "# Part 3a"
   ]
  },
  {
   "cell_type": "code",
   "execution_count": 236,
   "metadata": {},
   "outputs": [
    {
     "ename": "TypeError",
     "evalue": "'MovieWriterRegistry' object is not an iterator",
     "output_type": "error",
     "traceback": [
      "\u001b[0;31m---------------------------------------------------------------------------\u001b[0m",
      "\u001b[0;31mTypeError\u001b[0m                                 Traceback (most recent call last)",
      "\u001b[0;32m<ipython-input-236-a966928903e7>\u001b[0m in \u001b[0;36m<module>\u001b[0;34m\u001b[0m\n\u001b[0;32m----> 1\u001b[0;31m \u001b[0;32mimport\u001b[0m \u001b[0mqwop\u001b[0m\u001b[0;34m\u001b[0m\u001b[0;34m\u001b[0m\u001b[0m\n\u001b[0m",
      "\u001b[0;32m~/Dropbox/OnlineDocuments/2020/classes/cs168/hw7/qwop.py\u001b[0m in \u001b[0;36m<module>\u001b[0;34m\u001b[0m\n\u001b[1;32m    218\u001b[0m                                \u001b[0mframes\u001b[0m\u001b[0;34m=\u001b[0m\u001b[0mlen\u001b[0m\u001b[0;34m(\u001b[0m\u001b[0mdata\u001b[0m\u001b[0;34m)\u001b[0m\u001b[0;34m,\u001b[0m\u001b[0;34m\u001b[0m\u001b[0;34m\u001b[0m\u001b[0m\n\u001b[1;32m    219\u001b[0m                                interval=20)\n\u001b[0;32m--> 220\u001b[0;31m \u001b[0manim\u001b[0m\u001b[0;34m.\u001b[0m\u001b[0msave\u001b[0m\u001b[0;34m(\u001b[0m\u001b[0;34m'animation.mp4'\u001b[0m\u001b[0;34m,\u001b[0m \u001b[0mfps\u001b[0m\u001b[0;34m=\u001b[0m\u001b[0;36m50\u001b[0m\u001b[0;34m)\u001b[0m\u001b[0;34m\u001b[0m\u001b[0;34m\u001b[0m\u001b[0m\n\u001b[0m\u001b[1;32m    221\u001b[0m \u001b[0;34m\u001b[0m\u001b[0m\n\u001b[1;32m    222\u001b[0m \u001b[0mplt\u001b[0m\u001b[0;34m.\u001b[0m\u001b[0mshow\u001b[0m\u001b[0;34m(\u001b[0m\u001b[0;34m)\u001b[0m\u001b[0;34m\u001b[0m\u001b[0;34m\u001b[0m\u001b[0m\n",
      "\u001b[0;32m~/.virtualenvs/cs168/lib/python3.7/site-packages/matplotlib/animation.py\u001b[0m in \u001b[0;36msave\u001b[0;34m(self, filename, writer, fps, dpi, codec, bitrate, extra_args, metadata, extra_anim, savefig_kwargs, progress_callback)\u001b[0m\n\u001b[1;32m   1100\u001b[0m                                          metadata=metadata)\n\u001b[1;32m   1101\u001b[0m             \u001b[0;32melse\u001b[0m\u001b[0;34m:\u001b[0m\u001b[0;34m\u001b[0m\u001b[0;34m\u001b[0m\u001b[0m\n\u001b[0;32m-> 1102\u001b[0;31m                 \u001b[0malt_writer\u001b[0m \u001b[0;34m=\u001b[0m \u001b[0mnext\u001b[0m\u001b[0;34m(\u001b[0m\u001b[0mwriters\u001b[0m\u001b[0;34m,\u001b[0m \u001b[0;32mNone\u001b[0m\u001b[0;34m)\u001b[0m\u001b[0;34m\u001b[0m\u001b[0;34m\u001b[0m\u001b[0m\n\u001b[0m\u001b[1;32m   1103\u001b[0m                 \u001b[0;32mif\u001b[0m \u001b[0malt_writer\u001b[0m \u001b[0;32mis\u001b[0m \u001b[0;32mNone\u001b[0m\u001b[0;34m:\u001b[0m\u001b[0;34m\u001b[0m\u001b[0;34m\u001b[0m\u001b[0m\n\u001b[1;32m   1104\u001b[0m                     raise ValueError(\"Cannot save animation: no writers are \"\n",
      "\u001b[0;31mTypeError\u001b[0m: 'MovieWriterRegistry' object is not an iterator"
     ]
    },
    {
     "data": {
      "image/png": "[encoded data removed]",
      "text/plain": [
       "<Figure size 1200x300 with 1 Axes>"
      ]
     },
     "metadata": {
      "needs_background": "light"
     },
     "output_type": "display_data"
    }
   ],
   "source": [
    "import qwop"
   ]
  },
  {
   "cell_type": "code",
   "execution_count": null,
   "metadata": {},
   "outputs": [],
   "source": []
  }
 ],
 "metadata": {
  "kernelspec": {
   "display_name": "cs168",
   "language": "python",
   "name": "cs168"
  },
  "language_info": {
   "codemirror_mode": {
    "name": "ipython",
    "version": 3
   },
   "file_extension": ".py",
   "mimetype": "text/x-python",
   "name": "python",
   "nbconvert_exporter": "python",
   "pygments_lexer": "ipython3",
   "version": "3.7.4"
  }
 },
 "nbformat": 4,
 "nbformat_minor": 4
}
