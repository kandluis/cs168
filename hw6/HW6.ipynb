{
 "cells": [
  {
   "cell_type": "markdown",
   "metadata": {},
   "source": [
    "# CS 168 Spring Assignment 6\n",
    "\n",
    "SUNet ID(s): 05794739\n",
    "\n",
    "Name(s): Luis A. Perez\n",
    "\n",
    "Collaborators: None\n",
    "\n",
    "By turning in this assignment, I agree by the Stanford honor code and declare\n",
    "that all of this is my own work.\n"
   ]
  },
  {
   "cell_type": "markdown",
   "metadata": {},
   "source": [
    "# Imports"
   ]
  },
  {
   "cell_type": "code",
   "execution_count": 28,
   "metadata": {},
   "outputs": [],
   "source": [
    "import collections\n",
    "import matplotlib.pyplot as plt\n",
    "import scipy\n",
    "\n",
    "import numpy as np\n",
    "from PIL import Image\n",
    "from sklearn import decomposition\n",
    "import pandas as pd\n",
    "import seaborn as sns\n",
    "import os\n",
    "import warnings\n",
    "\n",
    "from typing import Dict, List, Text, Tuple\n",
    "\n",
    "# Make figure larger\n",
    "plt.rcParams['figure.figsize'] = [10, 5]\n",
    "\n",
    "# Set numpy seed for consistent results.\n",
    "np.random.seed(1)"
   ]
  },
  {
   "cell_type": "code",
   "execution_count": 29,
   "metadata": {},
   "outputs": [],
   "source": [
    "class Globals:\n",
    "    DATA_PATH = 'data/'"
   ]
  },
  {
   "cell_type": "markdown",
   "metadata": {},
   "source": [
    "# Part 1"
   ]
  },
  {
   "cell_type": "markdown",
   "metadata": {},
   "source": [
    "## Part 1b"
   ]
  },
  {
   "cell_type": "code",
   "execution_count": 30,
   "metadata": {},
   "outputs": [],
   "source": [
    "def line_graph(n=100):\n",
    "    \"\"\"Returns degree and adjacency matrices for line graph.\"\"\"\n",
    "    D = 2 * np.ones(n)\n",
    "    D[0] = 1\n",
    "    D[n - 1] = 1\n",
    "    D = np.diag(D)\n",
    "    A = np.zeros((n, n))\n",
    "    for i in range(n-1):\n",
    "        A[i, i + 1] = 1\n",
    "        A[i + 1, i] = 1\n",
    "    return A, D\n",
    "\n",
    "def circle_graph(n=100):\n",
    "    \"\"\"Returns degree and adjacency matrices for circle graph.\"\"\"\n",
    "    D = 2 * np.ones(n)\n",
    "    D = np.diag(D)\n",
    "    A = np.zeros((n, n))\n",
    "    for i in range(n):\n",
    "        A[i, (i + 1) % n] = 1\n",
    "        A[(i + 1) % n, i] = 1\n",
    "    return A, D\n",
    "\n",
    "def line_graph_plus_one(n=100):\n",
    "    \"\"\"\n",
    "    Returns degree and adjacency matrices for an n-1\n",
    "    point line graph with a final point connect to all previous points.\n",
    "    \"\"\"\n",
    "    D = 3 * np.ones(n)\n",
    "    D[0] = 2\n",
    "    D[n - 2] = 2\n",
    "    D[n - 1] = n - 1\n",
    "    D = np.diag(D)\n",
    "    A = np.zeros((n, n))\n",
    "    for i in range(n-2):\n",
    "        A[i, i + 1] = 1\n",
    "        A[i + 1, i] = 1\n",
    "    for i in range(n-1):\n",
    "        A[n-1, i] = 1\n",
    "        A[i, n-1] = 1\n",
    "    return A, D\n",
    "\n",
    "def circle_graph_plus_one(n=100):\n",
    "    \"\"\"\n",
    "    Returns degree and adjacency matrices for an n-1 circle graph\n",
    "    with a final point connecting to all previous points.\n",
    "    \"\"\"\n",
    "    D = 3 * np.ones(n)\n",
    "    D[n-1] = n-1\n",
    "    D = np.diag(D)\n",
    "    A = np.zeros((n, n))\n",
    "    for i in range(n-1):\n",
    "        A[i, i + 1] = 1\n",
    "        A[i + 1, i] = 1\n",
    "        A[i, n - 1] = 1\n",
    "        A[n - 1, i] = 1\n",
    "    return A, D"
   ]
  },
  {
   "cell_type": "code",
   "execution_count": 31,
   "metadata": {},
   "outputs": [],
   "source": [
    "def compute_eigens(graph_type, n=100):\n",
    "    A, D = globals()[graph_type](n=n)\n",
    "    L = D - A\n",
    "    return {\n",
    "        'L' : np.linalg.eig(L),\n",
    "        'A' :np.linalg.eig(A)\n",
    "    }"
   ]
  },
  {
   "cell_type": "code",
   "execution_count": 32,
   "metadata": {},
   "outputs": [],
   "source": [
    "x = compute_eigens('circle_graph')['L'][1][:, np.argsort(compute_eigens('circle_graph')['L'][0])][:, 0]"
   ]
  },
  {
   "cell_type": "code",
   "execution_count": 33,
   "metadata": {},
   "outputs": [],
   "source": [
    "def problem1b():\n",
    "    for graph_type in ['circle_graph', 'circle_graph_plus_one', 'line_graph', 'line_graph_plus_one']:\n",
    "        for typ, (eig_val, eig_v) in compute_eigens(graph_type).items():\n",
    "            idx = np.argsort(eig_val) # From small to large\n",
    "            sorted_v = eig_v[:, idx] # Sort by eigenvalue.\n",
    "            for name, i in zip(['smallest', 'smaller', 'larger', 'largest'], [0, 1, -2, -1]):\n",
    "                v = sorted_v[:, i]\n",
    "                plt.ylim((-0.25, 0.25))\n",
    "                plt.plot(range(len(v)), v, label=name)\n",
    "            plt.legend()\n",
    "            plt.xlabel('Vector Index')\n",
    "            plt.ylabel('Vector Value')\n",
    "            plt.title(f'{name.capitalize()} Eigenvectors of matrix {typ} of {graph_type}.')\n",
    "            plt.savefig(f'figures/eigenvectors_{graph_type}_{typ}.png', format='png')\n",
    "            plt.close()"
   ]
  },
  {
   "cell_type": "code",
   "execution_count": 34,
   "metadata": {},
   "outputs": [],
   "source": [
    "problem1b()"
   ]
  },
  {
   "cell_type": "markdown",
   "metadata": {},
   "source": [
    "## Problem 1c"
   ]
  },
  {
   "cell_type": "code",
   "execution_count": 35,
   "metadata": {},
   "outputs": [],
   "source": [
    "def edges(graph_type, n=100):\n",
    "    \"\"\"Returns an iterator over the edges (i,j) in the given graph.\"\"\"\n",
    "    _EDGES = {\n",
    "        'line_graph': zip(range(0,n-1), range(1,n)),\n",
    "        'circle_graph': zip(range(0,n), list(range(1,n)) + [0]),\n",
    "        'line_graph_plus_one': list(zip(range(0,n-2), range(1,n-1))) + list(zip(range(n-2), [n-1] * (n-1))),\n",
    "        'circle_graph_plus_one': list(zip(range(0,n), list(range(1,n)) + [0])) + list(zip(range(n-2), [n-1] * (n-1))),\n",
    "    }\n",
    "    return _EDGES[graph_type]"
   ]
  },
  {
   "cell_type": "code",
   "execution_count": 36,
   "metadata": {},
   "outputs": [],
   "source": [
    "def ploblem1c():\n",
    "    for graph_type in ['circle_graph', 'circle_graph_plus_one', 'line_graph', 'line_graph_plus_one']:\n",
    "        eig_val, eig_v = compute_eigens(graph_type)['L']\n",
    "        idx = np.argsort(eig_val)\n",
    "        sorted_v = eig_v[:, idx]\n",
    "        v2, v3 = sorted_v[:, 1], sorted_v[:, 2]\n",
    "        plt.axis('equal')\n",
    "        plt.scatter(v2, v3)\n",
    "        for i,j in edges(graph_type):\n",
    "            plt.plot([v2[i], v2[j]], [v3[i], v3[j]])\n",
    "        plt.title(f'Eigenvector Project of {graph_type}')\n",
    "        plt.xlabel('v2 - 2nd smallest eigenvector')\n",
    "        plt.ylabel('v3 - 3rd smallest eigenvector')\n",
    "        plt.savefig(f'figures/eignevector_projection_{graph_type}.png', format='png')\n",
    "        plt.close()"
   ]
  },
  {
   "cell_type": "code",
   "execution_count": 37,
   "metadata": {},
   "outputs": [],
   "source": [
    "ploblem1c()"
   ]
  },
  {
   "cell_type": "markdown",
   "metadata": {},
   "source": [
    "## Problem 1d"
   ]
  },
  {
   "cell_type": "code",
   "execution_count": 38,
   "metadata": {},
   "outputs": [],
   "source": [
    "def l2_dist(X, Y):\n",
    "    \"\"\"Computes the L2 pairwise distance between all elements in X,Y.\n",
    "    \n",
    "    Args:\n",
    "        X: An (n,k) matrix where each row is an element.\n",
    "        Y: An (m,k) matrix where each row is an element.\n",
    "        \n",
    "    Returns:\n",
    "        D: An (n,m) matrix where D[i][j] is the distance L2 distance\n",
    "            between X[i,:] and Y[j,:].\n",
    "    \"\"\"\n",
    "    (n,k1), (m, k2) = np.shape(X), np.shape(Y)\n",
    "    assert k1 == k2\n",
    "    k = k1\n",
    "    X2 = np.diag(np.dot(X, X.T)).reshape((n, 1))\n",
    "    Y2 = np.diag(np.dot(Y, Y.T)).reshape((1, m))\n",
    "    XY = np.dot(X, Y.T)\n",
    "    return np.sqrt(X2 + Y2 - 2*XY)"
   ]
  },
  {
   "cell_type": "code",
   "execution_count": 39,
   "metadata": {},
   "outputs": [],
   "source": [
    "def problem1d():\n",
    "    points = np.random.uniform(size=(500, 2))\n",
    "    distances = l2_dist(points, points)\n",
    "    A = (distances < 0.25).astype(int)\n",
    "    assert np.allclose(A, A.T) # Matrix is symetric.\n",
    "    D = np.diag(np.sum(A, axis=1))\n",
    "    L = D - A\n",
    "    val, eigs = np.linalg.eig(L)\n",
    "    idx = np.argsort(val)\n",
    "    v2, v3 = eigs[:, idx[1]], eigs[:, idx[2]]\n",
    "    plt.scatter(v2, v3)\n",
    "\n",
    "    mask = (points[:, 0] < 0.5) & (points[:, 1] < 0.5)\n",
    "    plt.scatter(v2[mask], v3[mask])\n",
    "    plt.savefig('figures/cluster_random.png', format='png')\n",
    "    plt.title('Projection of Random Graph with Neighborhood Defined by L2 Dist < 0.25')\n",
    "    plt.xlabel('v2 - second smallest eigenvector of laplacian')\n",
    "    plt.ylabel('v3 - third smallest eigenvector of laplacian')\n",
    "    plt.close()"
   ]
  },
  {
   "cell_type": "code",
   "execution_count": 40,
   "metadata": {},
   "outputs": [],
   "source": [
    "problem1d()"
   ]
  },
  {
   "cell_type": "markdown",
   "metadata": {},
   "source": [
    "# Problem 2"
   ]
  },
  {
   "cell_type": "markdown",
   "metadata": {},
   "source": [
    "## Problem 2a"
   ]
  },
  {
   "cell_type": "code",
   "execution_count": 14,
   "metadata": {},
   "outputs": [],
   "source": [
    "def read_friendship_graph():\n",
    "    \"\"\"Returns Adjacency matrix of friendship graph.\"\"\"\n",
    "    data = pd.read_csv(os.path.join(Globals.DATA_PATH, 'cs168mp6.csv'), header=None, names=['a', 'b'])\n",
    "    assert len(data) == 61796\n",
    "    assert len(set(data.a.unique()) | set(data.b.unique())) == 1495\n",
    "    n = 1495\n",
    "    A = np.zeros((n, n))\n",
    "    for _, row in data.iterrows():\n",
    "        A[row.a - 1, row.b - 1] = 1\n",
    "        A[row.b - 1, row.a - 1] = 1\n",
    "    return A.astype(int)"
   ]
  },
  {
   "cell_type": "markdown",
   "metadata": {},
   "source": [
    "## Problem 2b"
   ]
  },
  {
   "cell_type": "code",
   "execution_count": 25,
   "metadata": {},
   "outputs": [],
   "source": [
    "def problem2b():\n",
    "    A = read_friendship_graph()\n",
    "    D = np.diag(np.sum(A, axis=1))\n",
    "    L = D - A\n",
    "    vals, _ = np.linalg.eig(L)\n",
    "    print('Smallest 12 eigenvalues, in order:')\n",
    "    for val in sorted(vals)[:12]:\n",
    "        print(f'{val:.3f}')"
   ]
  },
  {
   "cell_type": "code",
   "execution_count": 26,
   "metadata": {},
   "outputs": [
    {
     "name": "stdout",
     "output_type": "stream",
     "text": [
      "Smallest 12 eigenvalues, in order:\n",
      "-0.000\n",
      "-0.000\n",
      "-0.000\n",
      "-0.000\n",
      "-0.000\n",
      "0.000\n",
      "0.014\n",
      "0.054\n",
      "0.074\n",
      "0.081\n",
      "0.120\n",
      "0.133\n"
     ]
    }
   ],
   "source": [
    "problem2b()"
   ]
  },
  {
   "cell_type": "markdown",
   "metadata": {},
   "source": [
    "## Problem 2c"
   ]
  },
  {
   "cell_type": "code",
   "execution_count": 446,
   "metadata": {},
   "outputs": [],
   "source": [
    "def problem2c():\n",
    "    A = read_friendship_graph()\n",
    "    D = np.diag(np.sum(A, axis=1))\n",
    "    L = D - A\n",
    "    vals, eighs = np.linalg.eig(L)\n",
    "    sorted_eighs = eighs[:, np.argsort(vals)]\n",
    "    return sorted_eighs"
   ]
  },
  {
   "cell_type": "code",
   "execution_count": 447,
   "metadata": {},
   "outputs": [],
   "source": [
    "eigs = problem2c()"
   ]
  },
  {
   "cell_type": "code",
   "execution_count": 473,
   "metadata": {},
   "outputs": [
    {
     "name": "stdout",
     "output_type": "stream",
     "text": [
      "Number of components 6\n",
      "Component sizes [   2    2    2    3 1484    2]\n",
      "Number of components 6\n",
      "Component sizes [   3    2 1484    2    2    2]\n",
      "Number of components 6\n",
      "Component sizes [   2    2    3 1484    2    2]\n",
      "Number of components 6\n",
      "Component sizes [   2    2    3 1484    2    2]\n",
      "Number of components 6\n",
      "Component sizes [1484    2    2    2    3    2]\n",
      "Number of components 6\n",
      "Component sizes [   2 1484    2    2    3    2]\n"
     ]
    }
   ],
   "source": [
    "# Try a couple at different rounding factors until you get 6 distinct clusters.\n",
    "for i in range(6):\n",
    "    rounded = np.round(eigs[:, i], decimals=12)\n",
    "    print(f'Number of components {len(np.unique(rounded))}')\n",
    "    print(f'Component sizes {np.unique(rounded, return_counts=True)[1]}')"
   ]
  },
  {
   "cell_type": "markdown",
   "metadata": {},
   "source": [
    "## Problem 2d"
   ]
  },
  {
   "cell_type": "code",
   "execution_count": 47,
   "metadata": {},
   "outputs": [],
   "source": [
    "def conductance(S, A):\n",
    "    n = A.shape[0]\n",
    "    complementS = set(range(n)) - S\n",
    "    num = 0\n",
    "    for i in S:\n",
    "        for j in complementS:\n",
    "            num += A[i][j]\n",
    "    AS = np.sum(A[list(S), :])\n",
    "    AnotS = np.sum(A[list(complementS), :])\n",
    "    return num / min(AS, AnotS)"
   ]
  },
  {
   "cell_type": "code",
   "execution_count": 263,
   "metadata": {},
   "outputs": [],
   "source": [
    "def search_for_clusters(eigs, condutance_t=0.1, min_size=150, max_size=300, num_unique_to_return=1):\n",
    "    found = []\n",
    "    prev_sets = []\n",
    "    for v_idx in range(6, 40):\n",
    "        print(f'Searching {v_idx}')\n",
    "        for t in np.arange(0, 0.08, 0.00002):\n",
    "            indexes = (np.abs(eigs[:, v_idx]) < t)\n",
    "            vals = eigs[:, v_idx][indexes]\n",
    "            if len(vals) >= min_size and len(vals) <= max_size:\n",
    "                cond = conductance(set(indexes.nonzero()[0]), A)\n",
    "                if cond < condutance_t:\n",
    "                    if not prev_sets:\n",
    "                        found.append((t, v_idx, cond))\n",
    "                        prev_sets.append(set(indexes.nonzero()[0]))\n",
    "                    else:\n",
    "                        s = set(indexes.nonzero()[0])\n",
    "                        skip = False\n",
    "                        for prev in prev_sets:\n",
    "                            if len(s & prev) > 10:\n",
    "                                skip = True\n",
    "                                break\n",
    "                        if not skip:\n",
    "                            found.append((t, v_idx, cond))\n",
    "                            prev_sets.append(s)\n",
    "                    if len(found) >= num_unique_to_return:\n",
    "                        return found\n",
    "    return found"
   ]
  },
  {
   "cell_type": "code",
   "execution_count": 330,
   "metadata": {},
   "outputs": [],
   "source": [
    "# Read the graph.\n",
    "A = read_friendship_graph()\n",
    "D = np.diag(np.sum(A, axis=1))\n",
    "L = D - A\n",
    "vals, eigs = np.linalg.eig(L)\n",
    "idx = np.argsort(vals)\n",
    "sorted_eigs = eigs[:, idx]"
   ]
  },
  {
   "cell_type": "code",
   "execution_count": 331,
   "metadata": {},
   "outputs": [
    {
     "name": "stdout",
     "output_type": "stream",
     "text": [
      "Searching 6\n",
      "Searching 7\n",
      "Searching 8\n"
     ]
    },
    {
     "data": {
      "text/plain": [
       "[(0.0002, 8, 0.08864468864468865)]"
      ]
     },
     "execution_count": 331,
     "metadata": {},
     "output_type": "execute_result"
    }
   ],
   "source": [
    "# Search to find a candidate eigenvector.\n",
    "search_for_clusters(sorted_eigs, num_unique_to_return=1)"
   ]
  },
  {
   "cell_type": "code",
   "execution_count": 342,
   "metadata": {},
   "outputs": [
    {
     "data": {
      "text/plain": [
       "(229, 0.08864468864468865)"
      ]
     },
     "execution_count": 342,
     "metadata": {},
     "output_type": "execute_result"
    }
   ],
   "source": [
    "# Try looking at different values here to identify closely clustered sets of points.\n",
    "s1 = set((np.abs(sorted_eigs[:, 8]) < 0.0002).nonzero()[0])\n",
    "len(s1), conductance(s1, A)"
   ]
  },
  {
   "cell_type": "code",
   "execution_count": 343,
   "metadata": {},
   "outputs": [
    {
     "data": {
      "text/plain": [
       "(561, 0.05860035888233786)"
      ]
     },
     "execution_count": 343,
     "metadata": {},
     "output_type": "execute_result"
    }
   ],
   "source": [
    "s2 = set(((sorted_eigs[:, 8] > 0.0002) & (sorted_eigs[:, 8] < 0.0045)).nonzero()[0])\n",
    "len(s2), conductance(s2, A)"
   ]
  },
  {
   "cell_type": "code",
   "execution_count": 344,
   "metadata": {},
   "outputs": [
    {
     "data": {
      "text/plain": [
       "(362, 0.08672401767030923)"
      ]
     },
     "execution_count": 344,
     "metadata": {},
     "output_type": "execute_result"
    }
   ],
   "source": [
    "s3 = set(((sorted_eigs[:, 8] > 0.0045) & (sorted_eigs[:, 8] < 0.00488)).nonzero()[0])\n",
    "len(s3), conductance(s3, A)"
   ]
  },
  {
   "cell_type": "code",
   "execution_count": 345,
   "metadata": {},
   "outputs": [
    {
     "data": {
      "text/plain": [
       "(set(), set(), set())"
      ]
     },
     "execution_count": 345,
     "metadata": {},
     "output_type": "execute_result"
    }
   ],
   "source": [
    "# Assert the ids are disjoint.\n",
    "s1 & s2, s2 & s3, s1 & s3"
   ]
  },
  {
   "cell_type": "code",
   "execution_count": 351,
   "metadata": {},
   "outputs": [
    {
     "data": {
      "text/plain": [
       "array([   2,    6,  519,    8,  521,  522, 1032, 1036,   13,  527])"
      ]
     },
     "execution_count": 351,
     "metadata": {},
     "output_type": "execute_result"
    }
   ],
   "source": [
    "np.array(list(s1))[:10] + 1"
   ]
  },
  {
   "cell_type": "code",
   "execution_count": 352,
   "metadata": {},
   "outputs": [
    {
     "data": {
      "text/plain": [
       "array([ 1,  3,  4,  9, 10, 11, 14, 16, 19, 20])"
      ]
     },
     "execution_count": 352,
     "metadata": {},
     "output_type": "execute_result"
    }
   ],
   "source": [
    "np.array(list(s2))[:10] + 1"
   ]
  },
  {
   "cell_type": "code",
   "execution_count": 353,
   "metadata": {},
   "outputs": [
    {
     "data": {
      "text/plain": [
       "array([ 5,  7, 23, 27, 30, 42, 44, 46, 47, 50])"
      ]
     },
     "execution_count": 353,
     "metadata": {},
     "output_type": "execute_result"
    }
   ],
   "source": [
    "np.array(list(s3))[:10] + 1"
   ]
  },
  {
   "cell_type": "code",
   "execution_count": 354,
   "metadata": {},
   "outputs": [],
   "source": [
    "plt.title('Eigenvector corresponding to 9-th smallest eigenvalue.')\n",
    "plt.xlabel('Vector Index')\n",
    "plt.ylabel('Vector Value')\n",
    "plt.plot(range(sorted_eigs.shape[0]), sorted_eigs[:, 8])\n",
    "plt.savefig('figures/eigenvector_9.png', format='png')\n",
    "plt.close()"
   ]
  },
  {
   "cell_type": "markdown",
   "metadata": {},
   "source": [
    "## Problem 2e"
   ]
  },
  {
   "cell_type": "code",
   "execution_count": 355,
   "metadata": {},
   "outputs": [],
   "source": [
    "def problem2e():\n",
    "    A = read_friendship_graph()\n",
    "    n = A.shape[0]\n",
    "    selected = set(np.random.choice(range(n), size=150, replace=False))\n",
    "    cond = conductance(selected, A)\n",
    "    print(f'The conductance of the randomly selected set of {150} nodes is {cond:.4f}.')"
   ]
  },
  {
   "cell_type": "code",
   "execution_count": 356,
   "metadata": {},
   "outputs": [
    {
     "name": "stdout",
     "output_type": "stream",
     "text": [
      "The conductance of the randomly selected set of 150 nodes is 0.8975.\n"
     ]
    }
   ],
   "source": [
    "problem2e()"
   ]
  },
  {
   "cell_type": "code",
   "execution_count": null,
   "metadata": {},
   "outputs": [],
   "source": []
  }
 ],
 "metadata": {
  "kernelspec": {
   "display_name": "cs168",
   "language": "python",
   "name": "cs168"
  },
  "language_info": {
   "codemirror_mode": {
    "name": "ipython",
    "version": 3
   },
   "file_extension": ".py",
   "mimetype": "text/x-python",
   "name": "python",
   "nbconvert_exporter": "python",
   "pygments_lexer": "ipython3",
   "version": "3.7.4"
  }
 },
 "nbformat": 4,
 "nbformat_minor": 4
}
