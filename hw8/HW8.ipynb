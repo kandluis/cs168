{
 "cells": [
  {
   "cell_type": "markdown",
   "metadata": {},
   "source": [
    "# CS 168 Spring Assignment 8\n",
    "\n",
    "SUNet ID(s): 05794739\n",
    "\n",
    "Name(s): Luis A. Perez\n",
    "\n",
    "Collaborators: None\n",
    "\n",
    "By turning in this assignment, I agree by the Stanford honor code and declare\n",
    "that all of this is my own work.\n"
   ]
  },
  {
   "cell_type": "markdown",
   "metadata": {},
   "source": [
    "# Imports"
   ]
  },
  {
   "cell_type": "code",
   "execution_count": 1,
   "metadata": {},
   "outputs": [],
   "source": [
    "import collections\n",
    "import matplotlib.pyplot as plt\n",
    "import scipy\n",
    "\n",
    "import numpy as np\n",
    "from PIL import Image\n",
    "from sklearn import decomposition\n",
    "import pandas as pd\n",
    "import seaborn as sns\n",
    "import os\n",
    "import warnings\n",
    "\n",
    "import IPython\n",
    "\n",
    "from typing import Dict, List, Text, Tuple\n",
    "\n",
    "# Make figure larger\n",
    "plt.rcParams['figure.figsize'] = [10, 5]\n",
    "\n",
    "# Set numpy seed for consistent results.\n",
    "np.random.seed(1)"
   ]
  },
  {
   "cell_type": "code",
   "execution_count": 2,
   "metadata": {},
   "outputs": [],
   "source": [
    "class Globals:\n",
    "    DATA_PATH = 'data/'"
   ]
  },
  {
   "cell_type": "markdown",
   "metadata": {},
   "source": [
    "# Part 2"
   ]
  },
  {
   "cell_type": "markdown",
   "metadata": {},
   "source": [
    "## Part 2c"
   ]
  },
  {
   "cell_type": "code",
   "execution_count": 144,
   "metadata": {},
   "outputs": [],
   "source": [
    "from scipy import fft\n",
    "\n",
    "def convolve(x: List[int], y:List[int]):\n",
    "    \"\"\"Compute x*y.\n",
    "    \n",
    "    Only accepts real-valued x,y.\n",
    "    \"\"\"\n",
    "    m, l = len(x), len(y)\n",
    "    n = max(m, l)\n",
    "    x = x + [0] * (n + max(n - m, 0))\n",
    "    y = y + [0] * (n + max(n - l, 0))\n",
    "    assert len(x) == 2*n\n",
    "    assert len(y) == 2*n\n",
    "    return np.rint(np.real(fft.ifft(fft.fft(x) * fft.fft(y))[:m + l - 1])).astype(int)\n",
    "    \n",
    "\n",
    "def multiply(x: List[int], y: List[int]):\n",
    "    \"\"\"Multiplies x and y.\n",
    "    \n",
    "    Args:\n",
    "        x: A list of digits. Lower indeces represent lower digits.\n",
    "        y: Same as ax.\n",
    "        \n",
    "    Returns:\n",
    "        A list of the same format representing the product x*y.\n",
    "    \"\"\"\n",
    "    # Convolve the two using FFT.\n",
    "    product = convolve(x, y)\n",
    "    # Limit values to just be single digit.\n",
    "    carry = 0\n",
    "    fixed_product = []\n",
    "    for val in product:\n",
    "        digit = (val + carry) % 10\n",
    "        carry = (val + carry) // 10\n",
    "        fixed_product.append(int(np.rint(digit)))\n",
    "        \n",
    "    while carry > 0:\n",
    "        digit = carry % 10\n",
    "        carry = carry // 10\n",
    "        fixed_product.append(int(np.rint(digit)))\n",
    "    return fixed_product\n",
    "\n",
    "def to_list(x: str) -> List[int]:\n",
    "    return [int(char) for char in reversed(x)]\n",
    "\n",
    "def from_list(x: List[int]) -> str:\n",
    "    return \"\".join([str(y) for y in reversed(x)])"
   ]
  },
  {
   "cell_type": "code",
   "execution_count": 145,
   "metadata": {},
   "outputs": [],
   "source": [
    "def problem2c():\n",
    "    x = \"12345678901234567890\"\n",
    "    y = \"987654321098765432109876543210\"\n",
    "    print(f\"{x} x {y} = {from_list(multiply(to_list(x), to_list(y)))}\")"
   ]
  },
  {
   "cell_type": "code",
   "execution_count": 146,
   "metadata": {},
   "outputs": [
    {
     "name": "stdout",
     "output_type": "stream",
     "text": [
      "12345678901234567890 x 987654321098765432109876543210 = 12193263113702179522496570642237463801111263526900\n"
     ]
    }
   ],
   "source": [
    "problem2c()"
   ]
  },
  {
   "cell_type": "markdown",
   "metadata": {},
   "source": [
    "# Problem 3"
   ]
  },
  {
   "cell_type": "code",
   "execution_count": 163,
   "metadata": {},
   "outputs": [],
   "source": [
    "from scipy.io import wavfile"
   ]
  },
  {
   "cell_type": "code",
   "execution_count": 164,
   "metadata": {},
   "outputs": [],
   "source": [
    "def load_wav():\n",
    "    with open(os.path.join(Globals.DATA_PATH, 'laurel_yanny.wav'), 'rb') as f:\n",
    "        sampleRate, data = wavfile.read(f)\n",
    "    return sampleRate, data"
   ]
  },
  {
   "cell_type": "code",
   "execution_count": 165,
   "metadata": {},
   "outputs": [],
   "source": [
    "def save_wav(sampleRate, data, outfile='output.wav'):\n",
    "    data = (data * 1.0 / np.max(np.abs(data))*32767).astype(np.int16)\n",
    "    with open(os.path.join(Globals.DATA_PATH, outfile), 'wb') as f:\n",
    "        wavfile.write(f, sampleRate, data)"
   ]
  },
  {
   "cell_type": "code",
   "execution_count": 167,
   "metadata": {},
   "outputs": [],
   "source": [
    "# Test.\n",
    "save_wav(*load_wav())"
   ]
  },
  {
   "cell_type": "markdown",
   "metadata": {},
   "source": [
    "## Problem 3b"
   ]
  },
  {
   "cell_type": "code",
   "execution_count": 168,
   "metadata": {},
   "outputs": [],
   "source": [
    "def problem3b():\n",
    "    sampleRate, data = load_wav()\n",
    "    plt.title('Waveform for Laurel/Yanny Wavefile')\n",
    "    plt.xlabel('Time (seconds)')\n",
    "    plt.ylabel('Displacement')\n",
    "    plt.plot(np.arange(len(data)) / sampleRate, data)\n",
    "    plt.savefig('figures/laurel_yanny_waveform.png', format='png')\n",
    "    plt.close()"
   ]
  },
  {
   "cell_type": "code",
   "execution_count": 169,
   "metadata": {},
   "outputs": [],
   "source": [
    "problem3b()"
   ]
  },
  {
   "cell_type": "markdown",
   "metadata": {},
   "source": [
    "## Problem 3c"
   ]
  },
  {
   "cell_type": "code",
   "execution_count": 171,
   "metadata": {},
   "outputs": [],
   "source": [
    "def problem3c():\n",
    "    sampleRate, data = load_wav()\n",
    "    data = fft.fft(data)\n",
    "    \n",
    "    plt.title('Fourier Transform of Waveform for Laurel/Yanny Wavefile')\n",
    "    plt.xlabel('Frequency (Hz)')\n",
    "    plt.ylabel('Amplitude')\n",
    "    # Only plot magnitudes of values.\n",
    "    plt.plot(np.arange(len(data)), np.abs(data))\n",
    "    plt.savefig('figures/laurel_yanny_waveform_fft.png', format='png')\n",
    "    plt.close()"
   ]
  },
  {
   "cell_type": "code",
   "execution_count": 172,
   "metadata": {},
   "outputs": [],
   "source": [
    "problem3c()"
   ]
  },
  {
   "cell_type": "markdown",
   "metadata": {},
   "source": [
    "## Problem 3d"
   ]
  },
  {
   "cell_type": "code",
   "execution_count": 207,
   "metadata": {},
   "outputs": [],
   "source": [
    "def problem3d():\n",
    "    block_size = 500\n",
    "    max_freq = 80\n",
    "    sampleRate, data = load_wav()\n",
    "    heatmap = []\n",
    "    # Ignore the last chunk.\n",
    "    for i in range(0, len(data) - block_size, block_size):\n",
    "        block = data[i:min(i+block_size, len(data))]\n",
    "        transform = np.abs(fft.fft(block))\n",
    "        heatmap.append(transform[:max_freq])\n",
    "    print(f'We have {len(heatmap)} chunks.')\n",
    "    heatmap = np.stack(tuple(heatmap)).T\n",
    "    plt.imshow(np.log(heatmap), cmap='hot')\n",
    "    plt.title(f'Spectogram using Block Size of {block_size}')\n",
    "    plt.ylabel('Frequency')\n",
    "    plt.xlabel('Block Index')\n",
    "    plt.savefig('figures/spectogram.png', format='png')\n",
    "    plt.close()"
   ]
  },
  {
   "cell_type": "code",
   "execution_count": 208,
   "metadata": {},
   "outputs": [
    {
     "name": "stdout",
     "output_type": "stream",
     "text": [
      "We have 86 chunks.\n"
     ]
    }
   ],
   "source": [
    "x = problem3d()"
   ]
  },
  {
   "cell_type": "markdown",
   "metadata": {},
   "source": [
    "## Problem 3d"
   ]
  },
  {
   "cell_type": "code",
   "execution_count": 222,
   "metadata": {},
   "outputs": [],
   "source": [
    "def problem3e():\n",
    "    sampleRate, data = load_wav()\n",
    "    \n",
    "    for t in range(100, 5000, 100):\n",
    "        transform = fft.fft(data)\n",
    "        low_only, high_only = transform.copy(), transform.copy()\n",
    "        low_mask = (np.arange(len(low_only)) < t) | (np.arange(len(low_only)) > (len(low_only) - t))\n",
    "        low_only[~low_mask] = 0\n",
    "        high_only[low_mask] = 0\n",
    "        low_only = fft.ifft(low_only)\n",
    "        high_only = fft.ifft(high_only)\n",
    "        \n",
    "        save_wav(sampleRate, low_only, outfile=f'[T={t}]low_only.wav')\n",
    "        save_wav(sampleRate, high_only, outfile=f'[T={t}]high_only.wav')"
   ]
  },
  {
   "cell_type": "code",
   "execution_count": 223,
   "metadata": {},
   "outputs": [
    {
     "name": "stderr",
     "output_type": "stream",
     "text": [
      "/Users/nautilik/.virtualenvs/cs168/lib/python3.7/site-packages/ipykernel_launcher.py:2: ComplexWarning: Casting complex values to real discards the imaginary part\n",
      "  \n"
     ]
    }
   ],
   "source": [
    "problem3e()"
   ]
  },
  {
   "cell_type": "markdown",
   "metadata": {},
   "source": [
    "## Problem 3g"
   ]
  },
  {
   "cell_type": "code",
   "execution_count": 252,
   "metadata": {},
   "outputs": [],
   "source": [
    "def problem3g():\n",
    "    sampleRate, data = load_wav()\n",
    "    for scale in np.arange(0.25, 2.25, 0.05):\n",
    "        scaled_sample = int(scale * sampleRate)\n",
    "        save_wav(scaled_sample, data, outfile=f'[Rate={scaled_sample}]_output.wav')"
   ]
  },
  {
   "cell_type": "code",
   "execution_count": 253,
   "metadata": {},
   "outputs": [],
   "source": [
    "problem3g()"
   ]
  },
  {
   "cell_type": "code",
   "execution_count": null,
   "metadata": {},
   "outputs": [],
   "source": []
  }
 ],
 "metadata": {
  "kernelspec": {
   "display_name": "cs168",
   "language": "python",
   "name": "cs168"
  },
  "language_info": {
   "codemirror_mode": {
    "name": "ipython",
    "version": 3
   },
   "file_extension": ".py",
   "mimetype": "text/x-python",
   "name": "python",
   "nbconvert_exporter": "python",
   "pygments_lexer": "ipython3",
   "version": "3.7.7"
  }
 },
 "nbformat": 4,
 "nbformat_minor": 4
}
